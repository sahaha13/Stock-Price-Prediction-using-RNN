{
  "nbformat": 4,
  "nbformat_minor": 0,
  "metadata": {
    "colab": {
      "name": "recurrent_neural_networks.ipynb",
      "provenance": [],
      "collapsed_sections": [],
      "toc_visible": true
    },
    "kernelspec": {
      "name": "python3",
      "display_name": "Python 3"
    },
    "language_info": {
      "name": "python"
    },
    "accelerator": "GPU"
  },
  "cells": [
    {
      "cell_type": "markdown",
      "source": [
        "# Stock Price Prediction using Recurrent Neural Networks"
      ],
      "metadata": {
        "id": "tfeF6-IZfFFJ"
      }
    },
    {
      "cell_type": "markdown",
      "source": [
        "## Data Preprocessing"
      ],
      "metadata": {
        "id": "EUBl51ADfNWb"
      }
    },
    {
      "cell_type": "code",
      "source": [
        "import pandas as pd\n",
        "import numpy as np\n",
        "import matplotlib.pyplot as plt \n",
        "import tensorflow as tf"
      ],
      "metadata": {
        "id": "aq7vhjyJfm9N"
      },
      "execution_count": 16,
      "outputs": []
    },
    {
      "cell_type": "markdown",
      "source": [
        "### Importing training set"
      ],
      "metadata": {
        "id": "T6g2QiBFftoQ"
      }
    },
    {
      "cell_type": "code",
      "source": [
        "data_train = pd.read_csv(\"drive/MyDrive/RNN/Google_Stock_Price_Train.csv\")\n",
        "training_set = data_train.iloc[:, 1: 2].values"
      ],
      "metadata": {
        "id": "OHUYydJUfwi-"
      },
      "execution_count": 9,
      "outputs": []
    },
    {
      "cell_type": "markdown",
      "source": [
        "### Feature Scaling"
      ],
      "metadata": {
        "id": "J3beXeFqf9JF"
      }
    },
    {
      "cell_type": "code",
      "source": [
        "from sklearn.preprocessing import MinMaxScaler\n",
        "sc = MinMaxScaler(feature_range = (0,1))\n",
        "training_set_scaled = sc.fit_transform(training_set)\n",
        "len(training_set_scaled)"
      ],
      "metadata": {
        "colab": {
          "base_uri": "https://localhost:8080/"
        },
        "id": "Lz8A6qsygHYC",
        "outputId": "bbdb0d40-f3b7-425b-a784-42f1210caf3e"
      },
      "execution_count": 12,
      "outputs": [
        {
          "output_type": "execute_result",
          "data": {
            "text/plain": [
              "1258"
            ]
          },
          "metadata": {},
          "execution_count": 12
        }
      ]
    },
    {
      "cell_type": "markdown",
      "source": [
        "### Creating data structure with 60 timesteps and one output"
      ],
      "metadata": {
        "id": "hLKz-TrXgaUz"
      }
    },
    {
      "cell_type": "code",
      "source": [
        "X_train = []\n",
        "y_train = []\n",
        "for i in range(60, len(training_set_scaled)):\n",
        "  X_train.append(training_set_scaled[i-60: i, 0])\n",
        "  y_train.append(training_set_scaled[i,0])\n",
        "X_train, y_train = np.array(X_train), np.array(y_train)"
      ],
      "metadata": {
        "id": "0ZjcP7QhgdIm"
      },
      "execution_count": 14,
      "outputs": []
    },
    {
      "cell_type": "markdown",
      "source": [
        "### Reshaping"
      ],
      "metadata": {
        "id": "wSjXqF8uhXkX"
      }
    },
    {
      "cell_type": "code",
      "source": [
        "X_train = np.reshape(X_train, (X_train.shape[0], X_train.shape[1], 1))"
      ],
      "metadata": {
        "id": "C5WHyXw9h5TX"
      },
      "execution_count": 15,
      "outputs": []
    },
    {
      "cell_type": "markdown",
      "source": [
        "## Building and Training the RNN"
      ],
      "metadata": {
        "id": "aBl7wTzoiEF5"
      }
    },
    {
      "cell_type": "code",
      "source": [
        "from keras.models import Sequential\n",
        "from keras.layers import Dense\n",
        "from keras.layers import LSTM\n",
        "from keras.layers import Dropout"
      ],
      "metadata": {
        "id": "C1aDShOgiG2S"
      },
      "execution_count": 17,
      "outputs": []
    },
    {
      "cell_type": "markdown",
      "source": [
        "### Initializing the RNN"
      ],
      "metadata": {
        "id": "yeznZFIGiXkW"
      }
    },
    {
      "cell_type": "code",
      "source": [
        "regressor = Sequential()"
      ],
      "metadata": {
        "id": "Leir4UCOibYJ"
      },
      "execution_count": 18,
      "outputs": []
    },
    {
      "cell_type": "markdown",
      "source": [
        "### Adding first LSTM layer and Dropout Regularization"
      ],
      "metadata": {
        "id": "JaLfGfbajuyH"
      }
    },
    {
      "cell_type": "code",
      "source": [
        "regressor.add(LSTM(units = 50, return_sequences= True, input_shape=(X_train.shape[1], 1))) \n",
        "# 3D shape except first dimension which is already accounted for\n",
        "regressor.add(Dropout(0.2))"
      ],
      "metadata": {
        "id": "CuN1eZkajy4f"
      },
      "execution_count": 19,
      "outputs": []
    },
    {
      "cell_type": "markdown",
      "source": [
        "### Adding Second LSTM layer and Dropout Regularization"
      ],
      "metadata": {
        "id": "w5HRrcG0knl6"
      }
    },
    {
      "cell_type": "code",
      "source": [
        "regressor.add(LSTM(units= 50, return_sequences = True))\n",
        "regressor.add(Dropout(0.2))"
      ],
      "metadata": {
        "id": "vgrPdMx5ksoo"
      },
      "execution_count": 20,
      "outputs": []
    },
    {
      "cell_type": "markdown",
      "source": [
        "### Adding Third LSTM layer and Dropout Regularization"
      ],
      "metadata": {
        "id": "cmZRoHEuk3A0"
      }
    },
    {
      "cell_type": "code",
      "source": [
        "regressor.add(LSTM(units = 50, return_sequences=True))\n",
        "regressor.add(Dropout(0.2))"
      ],
      "metadata": {
        "id": "pGkVxnPMk6ws"
      },
      "execution_count": 21,
      "outputs": []
    },
    {
      "cell_type": "markdown",
      "source": [
        "### Adding Fourth and Final LSTM layer and Dropout Regularization"
      ],
      "metadata": {
        "id": "QNu1tMpmlCH_"
      }
    },
    {
      "cell_type": "code",
      "source": [
        "regressor.add(LSTM(units = 50))\n",
        "regressor.add(Dropout(0.2))"
      ],
      "metadata": {
        "id": "B6H88tzwlFtJ"
      },
      "execution_count": 22,
      "outputs": []
    },
    {
      "cell_type": "markdown",
      "source": [
        "### Adding the output layer"
      ],
      "metadata": {
        "id": "ajpW1SN3lL06"
      }
    },
    {
      "cell_type": "code",
      "source": [
        "regressor.add(Dense(units = 1))"
      ],
      "metadata": {
        "id": "P0ZHgRuZlPPr"
      },
      "execution_count": 24,
      "outputs": []
    },
    {
      "cell_type": "markdown",
      "source": [
        "### Compiling the RNN"
      ],
      "metadata": {
        "id": "RKccW-MXlToJ"
      }
    },
    {
      "cell_type": "code",
      "source": [
        "regressor.compile(optimizer = \"adam\", loss = \"mean_squared_error\")"
      ],
      "metadata": {
        "id": "M5VY6GmjlYjU"
      },
      "execution_count": 25,
      "outputs": []
    },
    {
      "cell_type": "markdown",
      "source": [
        "### Fitting the RNN to the training set"
      ],
      "metadata": {
        "id": "HVUyYPEUleZN"
      }
    },
    {
      "cell_type": "code",
      "source": [
        "regressor.fit(X_train, y_train, epochs = 100, batch_size = 32 )"
      ],
      "metadata": {
        "colab": {
          "base_uri": "https://localhost:8080/"
        },
        "id": "TVXepLUalhh6",
        "outputId": "a4f2d06c-69c0-4a78-8be0-d8e312e816ef"
      },
      "execution_count": 26,
      "outputs": [
        {
          "output_type": "stream",
          "name": "stdout",
          "text": [
            "Epoch 1/100\n",
            "38/38 [==============================] - 14s 121ms/step - loss: 0.0463\n",
            "Epoch 2/100\n",
            "38/38 [==============================] - 5s 124ms/step - loss: 0.0067\n",
            "Epoch 3/100\n",
            "38/38 [==============================] - 5s 119ms/step - loss: 0.0058\n",
            "Epoch 4/100\n",
            "38/38 [==============================] - 4s 118ms/step - loss: 0.0058\n",
            "Epoch 5/100\n",
            "38/38 [==============================] - 4s 117ms/step - loss: 0.0054\n",
            "Epoch 6/100\n",
            "38/38 [==============================] - 4s 118ms/step - loss: 0.0046\n",
            "Epoch 7/100\n",
            "38/38 [==============================] - 5s 120ms/step - loss: 0.0045\n",
            "Epoch 8/100\n",
            "38/38 [==============================] - 5s 119ms/step - loss: 0.0044\n",
            "Epoch 9/100\n",
            "38/38 [==============================] - 5s 119ms/step - loss: 0.0041\n",
            "Epoch 10/100\n",
            "38/38 [==============================] - 4s 117ms/step - loss: 0.0040\n",
            "Epoch 11/100\n",
            "38/38 [==============================] - 5s 119ms/step - loss: 0.0041\n",
            "Epoch 12/100\n",
            "38/38 [==============================] - 4s 117ms/step - loss: 0.0043\n",
            "Epoch 13/100\n",
            "38/38 [==============================] - 4s 116ms/step - loss: 0.0045\n",
            "Epoch 14/100\n",
            "38/38 [==============================] - 4s 117ms/step - loss: 0.0043\n",
            "Epoch 15/100\n",
            "38/38 [==============================] - 4s 116ms/step - loss: 0.0037\n",
            "Epoch 16/100\n",
            "38/38 [==============================] - 4s 117ms/step - loss: 0.0036\n",
            "Epoch 17/100\n",
            "38/38 [==============================] - 4s 116ms/step - loss: 0.0038\n",
            "Epoch 18/100\n",
            "38/38 [==============================] - 5s 122ms/step - loss: 0.0033\n",
            "Epoch 19/100\n",
            "38/38 [==============================] - 7s 184ms/step - loss: 0.0039\n",
            "Epoch 20/100\n",
            "38/38 [==============================] - 5s 124ms/step - loss: 0.0034\n",
            "Epoch 21/100\n",
            "38/38 [==============================] - 4s 117ms/step - loss: 0.0031\n",
            "Epoch 22/100\n",
            "38/38 [==============================] - 5s 130ms/step - loss: 0.0034\n",
            "Epoch 23/100\n",
            "38/38 [==============================] - 5s 122ms/step - loss: 0.0035\n",
            "Epoch 24/100\n",
            "38/38 [==============================] - 5s 127ms/step - loss: 0.0032\n",
            "Epoch 25/100\n",
            "38/38 [==============================] - 5s 122ms/step - loss: 0.0033\n",
            "Epoch 26/100\n",
            "38/38 [==============================] - 5s 122ms/step - loss: 0.0032\n",
            "Epoch 27/100\n",
            "38/38 [==============================] - 5s 119ms/step - loss: 0.0031\n",
            "Epoch 28/100\n",
            "38/38 [==============================] - 5s 121ms/step - loss: 0.0031\n",
            "Epoch 29/100\n",
            "38/38 [==============================] - 5s 130ms/step - loss: 0.0026\n",
            "Epoch 30/100\n",
            "38/38 [==============================] - 5s 128ms/step - loss: 0.0032\n",
            "Epoch 31/100\n",
            "38/38 [==============================] - 5s 124ms/step - loss: 0.0029\n",
            "Epoch 32/100\n",
            "38/38 [==============================] - 7s 178ms/step - loss: 0.0030\n",
            "Epoch 33/100\n",
            "38/38 [==============================] - 5s 132ms/step - loss: 0.0026\n",
            "Epoch 34/100\n",
            "38/38 [==============================] - 5s 126ms/step - loss: 0.0029\n",
            "Epoch 35/100\n",
            "38/38 [==============================] - 4s 116ms/step - loss: 0.0029\n",
            "Epoch 36/100\n",
            "38/38 [==============================] - 5s 125ms/step - loss: 0.0028\n",
            "Epoch 37/100\n",
            "38/38 [==============================] - 5s 135ms/step - loss: 0.0026\n",
            "Epoch 38/100\n",
            "38/38 [==============================] - 5s 135ms/step - loss: 0.0027\n",
            "Epoch 39/100\n",
            "38/38 [==============================] - 5s 119ms/step - loss: 0.0027\n",
            "Epoch 40/100\n",
            "38/38 [==============================] - 4s 117ms/step - loss: 0.0028\n",
            "Epoch 41/100\n",
            "38/38 [==============================] - 5s 129ms/step - loss: 0.0026\n",
            "Epoch 42/100\n",
            "38/38 [==============================] - 7s 181ms/step - loss: 0.0027\n",
            "Epoch 43/100\n",
            "38/38 [==============================] - 7s 188ms/step - loss: 0.0024\n",
            "Epoch 44/100\n",
            "38/38 [==============================] - 5s 134ms/step - loss: 0.0026\n",
            "Epoch 45/100\n",
            "38/38 [==============================] - 6s 165ms/step - loss: 0.0024\n",
            "Epoch 46/100\n",
            "38/38 [==============================] - 5s 120ms/step - loss: 0.0023\n",
            "Epoch 47/100\n",
            "38/38 [==============================] - 5s 124ms/step - loss: 0.0027\n",
            "Epoch 48/100\n",
            "38/38 [==============================] - 5s 127ms/step - loss: 0.0025\n",
            "Epoch 49/100\n",
            "38/38 [==============================] - 6s 155ms/step - loss: 0.0024\n",
            "Epoch 50/100\n",
            "38/38 [==============================] - 6s 152ms/step - loss: 0.0026\n",
            "Epoch 51/100\n",
            "38/38 [==============================] - 9s 239ms/step - loss: 0.0023\n",
            "Epoch 52/100\n",
            "38/38 [==============================] - 8s 219ms/step - loss: 0.0025\n",
            "Epoch 53/100\n",
            "38/38 [==============================] - 8s 220ms/step - loss: 0.0024\n",
            "Epoch 54/100\n",
            "38/38 [==============================] - 7s 191ms/step - loss: 0.0023\n",
            "Epoch 55/100\n",
            "38/38 [==============================] - 7s 187ms/step - loss: 0.0023\n",
            "Epoch 56/100\n",
            "38/38 [==============================] - 8s 213ms/step - loss: 0.0021\n",
            "Epoch 57/100\n",
            "38/38 [==============================] - 7s 195ms/step - loss: 0.0022\n",
            "Epoch 58/100\n",
            "38/38 [==============================] - 7s 183ms/step - loss: 0.0021\n",
            "Epoch 59/100\n",
            "38/38 [==============================] - 7s 188ms/step - loss: 0.0022\n",
            "Epoch 60/100\n",
            "38/38 [==============================] - 8s 204ms/step - loss: 0.0021\n",
            "Epoch 61/100\n",
            "38/38 [==============================] - 8s 207ms/step - loss: 0.0022\n",
            "Epoch 62/100\n",
            "38/38 [==============================] - 7s 183ms/step - loss: 0.0022\n",
            "Epoch 63/100\n",
            "38/38 [==============================] - 7s 188ms/step - loss: 0.0020\n",
            "Epoch 64/100\n",
            "38/38 [==============================] - 9s 230ms/step - loss: 0.0019\n",
            "Epoch 65/100\n",
            "38/38 [==============================] - 7s 188ms/step - loss: 0.0021\n",
            "Epoch 66/100\n",
            "38/38 [==============================] - 7s 190ms/step - loss: 0.0021\n",
            "Epoch 67/100\n",
            "38/38 [==============================] - 8s 205ms/step - loss: 0.0019\n",
            "Epoch 68/100\n",
            "38/38 [==============================] - 7s 197ms/step - loss: 0.0019\n",
            "Epoch 69/100\n",
            "38/38 [==============================] - 8s 199ms/step - loss: 0.0019\n",
            "Epoch 70/100\n",
            "38/38 [==============================] - 7s 191ms/step - loss: 0.0021\n",
            "Epoch 71/100\n",
            "38/38 [==============================] - 8s 206ms/step - loss: 0.0021\n",
            "Epoch 72/100\n",
            "38/38 [==============================] - 8s 207ms/step - loss: 0.0018\n",
            "Epoch 73/100\n",
            "38/38 [==============================] - 8s 201ms/step - loss: 0.0017\n",
            "Epoch 74/100\n",
            "38/38 [==============================] - 8s 199ms/step - loss: 0.0017\n",
            "Epoch 75/100\n",
            "38/38 [==============================] - 7s 193ms/step - loss: 0.0020\n",
            "Epoch 76/100\n",
            "38/38 [==============================] - 7s 195ms/step - loss: 0.0017\n",
            "Epoch 77/100\n",
            "38/38 [==============================] - 8s 204ms/step - loss: 0.0015\n",
            "Epoch 78/100\n",
            "38/38 [==============================] - 7s 197ms/step - loss: 0.0018\n",
            "Epoch 79/100\n",
            "38/38 [==============================] - 7s 189ms/step - loss: 0.0017\n",
            "Epoch 80/100\n",
            "38/38 [==============================] - 7s 192ms/step - loss: 0.0017\n",
            "Epoch 81/100\n",
            "38/38 [==============================] - 8s 198ms/step - loss: 0.0017\n",
            "Epoch 82/100\n",
            "38/38 [==============================] - 7s 180ms/step - loss: 0.0018\n",
            "Epoch 83/100\n",
            "38/38 [==============================] - 8s 198ms/step - loss: 0.0018\n",
            "Epoch 84/100\n",
            "38/38 [==============================] - 7s 187ms/step - loss: 0.0017\n",
            "Epoch 85/100\n",
            "38/38 [==============================] - 7s 197ms/step - loss: 0.0015\n",
            "Epoch 86/100\n",
            "38/38 [==============================] - 7s 188ms/step - loss: 0.0016\n",
            "Epoch 87/100\n",
            "38/38 [==============================] - 7s 193ms/step - loss: 0.0015\n",
            "Epoch 88/100\n",
            "38/38 [==============================] - 7s 189ms/step - loss: 0.0015\n",
            "Epoch 89/100\n",
            "38/38 [==============================] - 9s 236ms/step - loss: 0.0018\n",
            "Epoch 90/100\n",
            "38/38 [==============================] - 8s 211ms/step - loss: 0.0020\n",
            "Epoch 91/100\n",
            "38/38 [==============================] - 8s 201ms/step - loss: 0.0016\n",
            "Epoch 92/100\n",
            "38/38 [==============================] - 8s 203ms/step - loss: 0.0015\n",
            "Epoch 93/100\n",
            "38/38 [==============================] - 7s 191ms/step - loss: 0.0015\n",
            "Epoch 94/100\n",
            "38/38 [==============================] - 8s 202ms/step - loss: 0.0016\n",
            "Epoch 95/100\n",
            "38/38 [==============================] - 7s 193ms/step - loss: 0.0014\n",
            "Epoch 96/100\n",
            "38/38 [==============================] - 8s 211ms/step - loss: 0.0014\n",
            "Epoch 97/100\n",
            "38/38 [==============================] - 8s 198ms/step - loss: 0.0015\n",
            "Epoch 98/100\n",
            "38/38 [==============================] - 8s 216ms/step - loss: 0.0015\n",
            "Epoch 99/100\n",
            "38/38 [==============================] - 7s 189ms/step - loss: 0.0014\n",
            "Epoch 100/100\n",
            "38/38 [==============================] - 7s 185ms/step - loss: 0.0013\n"
          ]
        },
        {
          "output_type": "execute_result",
          "data": {
            "text/plain": [
              "<keras.callbacks.History at 0x7ff54391fe50>"
            ]
          },
          "metadata": {},
          "execution_count": 26
        }
      ]
    },
    {
      "cell_type": "markdown",
      "source": [
        "## Making Predictions "
      ],
      "metadata": {
        "id": "uKPLEKXtlnVU"
      }
    },
    {
      "cell_type": "markdown",
      "source": [
        "### Getting the true values, i.e the real stock prices of 2017"
      ],
      "metadata": {
        "id": "7qD7lpLpmaef"
      }
    },
    {
      "cell_type": "code",
      "source": [
        "data_test = pd.read_csv(\"drive/MyDrive/RNN/Google_Stock_Price_Test.csv\")\n",
        "real_stock_price = data_test.iloc[:, 1:2].values"
      ],
      "metadata": {
        "id": "yswcS-6nmi_n"
      },
      "execution_count": 40,
      "outputs": []
    },
    {
      "cell_type": "markdown",
      "source": [
        "### Getting the predicted stock prices of 2017"
      ],
      "metadata": {
        "id": "suDIQ5uMmyCg"
      }
    },
    {
      "cell_type": "code",
      "source": [
        "data_total = pd.concat((data_train['Open'], data_test['Open']), axis = 0)\n",
        "inputs = data_total[len(data_total) - len(data_test) - 60:].values\n",
        "inputs = inputs.reshape(-1,1)\n",
        "inputs = sc.transform(inputs)\n",
        "X_test = []\n",
        "for i in range(60, 80):\n",
        "    X_test.append(inputs[i-60:i, 0])\n",
        "X_test = np.array(X_test)\n",
        "X_test = np.reshape(X_test, (X_test.shape[0], X_test.shape[1], 1))\n",
        "predicted_stock_price = regressor.predict(X_test)\n",
        "predicted_stock_price = sc.inverse_transform(predicted_stock_price)"
      ],
      "metadata": {
        "id": "biXUk7Crm2lQ"
      },
      "execution_count": 42,
      "outputs": []
    },
    {
      "cell_type": "markdown",
      "source": [
        "## Visualizing Results"
      ],
      "metadata": {
        "id": "hyfxRJwnoB3m"
      }
    },
    {
      "cell_type": "code",
      "source": [
        "plt.plot(real_stock_price, color = 'red', label = 'real stock price')\n",
        "plt.plot(predicted_stock_price, color = 'blue', label = 'predicted stock price')\n",
        "plt.title('Google Stock Price Prediction vs True Price')\n",
        "plt.xlabel('Time')\n",
        "plt.ylabel('Google Stock Price($)')\n",
        "plt.legend()\n",
        "plt.show()"
      ],
      "metadata": {
        "colab": {
          "base_uri": "https://localhost:8080/",
          "height": 295
        },
        "id": "aEMnGX8lpG9_",
        "outputId": "a942e14d-a022-4bba-d4a9-3d762d65cfd6"
      },
      "execution_count": 43,
      "outputs": [
        {
          "output_type": "display_data",
          "data": {
            "text/plain": [
              "<Figure size 432x288 with 1 Axes>"
            ],
            "image/png": "[encoded data removed]"
          },
          "metadata": {
            "needs_background": "light"
          }
        }
      ]
    },
    {
      "cell_type": "markdown",
      "source": [
        "***"
      ],
      "metadata": {
        "id": "Yfnaq4aRph7B"
      }
    }
  ]
}